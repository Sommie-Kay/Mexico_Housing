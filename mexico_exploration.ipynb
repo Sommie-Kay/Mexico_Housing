{
 "cells": [
  {
   "cell_type": "markdown",
   "id": "68026928-8789-4424-8ed8-ca31666e377d",
   "metadata": {},
   "source": [
    "This note book  will illustrate the data exploration prcoess step by step."
   ]
  },
  {
   "cell_type": "code",
   "execution_count": 31,
   "id": "678c133e-9046-4374-8ffb-8f2eb975cc10",
   "metadata": {},
   "outputs": [],
   "source": [
    "import warnings\n",
    "from glob import glob\n",
    "\n",
    "import pandas as pd\n",
    "import seaborn as sns\n",
    "import matplotlib.pyplot as plt\n",
    "import plotly.express as px\n",
    "from category_encoders import OneHotEncoder\n",
    "from IPython.display import VimeoVideo\n",
    "from ipywidgets import Dropdown, FloatSlider, IntSlider, interact\n",
    "from sklearn.impute import SimpleImputer\n",
    "from sklearn.linear_model import LinearRegression, Ridge  # noqa F401\n",
    "from sklearn.metrics import mean_absolute_error\n",
    "from sklearn.pipeline import make_pipeline\n",
    "from sklearn.utils.validation import check_is_fitted\n",
    "\n",
    "warnings.simplefilter(action=\"ignore\", category=FutureWarning)"
   ]
  },
  {
   "cell_type": "markdown",
   "id": "9488f757-9518-4a07-9f2a-99cdbca81a45",
   "metadata": {},
   "source": [
    "The project is centered at creating a model that can predict the price of apartments in the city of Mexico (Distrito federal) for a customer.Paying attention strictly to apartments that cost less than $100,000 USD (< $100,000)"
   ]
  },
  {
   "cell_type": "markdown",
   "id": "cff98310-0d22-4614-b960-a1d91f1cf965",
   "metadata": {},
   "source": [
    "# Prepare Data"
   ]
  },
  {
   "cell_type": "markdown",
   "id": "e218ad62-e04c-4a18-a098-2522ca7dc131",
   "metadata": {},
   "source": [
    "## Import"
   ]
  },
  {
   "cell_type": "markdown",
   "id": "6d7ecf1b-6d1a-4ec8-85ea-98bf3027b3b0",
   "metadata": {},
   "source": [
    "The project contains more than 5 data sets , so instead of cleaning each of them individually, I will utilize creating  a function that will automate the data importing and cleaning process. "
   ]
  },
  {
   "cell_type": "code",
   "execution_count": 32,
   "id": "f9a79e1f-02ab-48bb-b39b-f2685b16aa30",
   "metadata": {},
   "outputs": [],
   "source": [
    "def wrangle(filepath):\n",
    "    # Read csv file into DataFrame\n",
    "    df = pd.read_csv(filepath)\n",
    "    # Subset data: Apartments in \"Distrito Federal\", less than 100,000\n",
    "    mask_ba = df[\"place_with_parent_names\"].str.contains(\"Distrito Federal\")\n",
    "    mask_apt = df[\"property_type\"] == \"apartment\"\n",
    "    mask_price = df[\"price_aprox_usd\"] < 100_000\n",
    "    df = df[mask_ba & mask_apt & mask_price]\n",
    "    # Subset data: Remove outliers for \"surface_covered_in_m2\"\n",
    "    low, high = df[\"surface_covered_in_m2\"].quantile([0.1, 0.9])\n",
    "    mask_area = df[\"surface_covered_in_m2\"].between(low, high)\n",
    "    df = df[mask_area]\n",
    "    # Split \"lat-lon\" column\n",
    "    df[[\"lat\", \"lon\"]] = df[\"lat-lon\"].str.split(\",\", expand=True).astype(float)\n",
    "    df.drop(columns=\"lat-lon\", inplace=True)\n",
    "    # Create a borough column and drop the place_with_parent_names column\n",
    "    df[\"borough\"] = df[\"place_with_parent_names\"].str.split(\"|\", expand=True)[1]\n",
    "    df.drop(columns=\"place_with_parent_names\", inplace=True)\n",
    "    # Drop columns with over 50% null values\n",
    "    df.drop(columns=[\"floor\" ,\"expenses\"], inplace=True)\n",
    "    # Drop low and high cardinality categorical variables\n",
    "    df.drop(columns=[\"operation\", \"property_type\", \"currency\", \"properati_url\"], inplace=True)\n",
    "    # Drop Leaky Columns\n",
    "    df.drop(columns=[\"price\", \"price_aprox_local_currency\",\"price_usd_per_m2\", \"price_per_m2\"], inplace=True)\n",
    "    # Drop columns with multicolinearity\n",
    "    df.drop(columns=[\"surface_total_in_m2\", \"rooms\"], inplace=True)\n",
    "\n",
    "    return df"
   ]
  },
  {
   "cell_type": "markdown",
   "id": "b999748a-406e-497b-b4e1-1783605e1cea",
   "metadata": {},
   "source": [
    "# Exploration"
   ]
  },
  {
   "cell_type": "code",
   "execution_count": 13,
   "id": "e47d433a-92f0-41c2-9c7f-310af399a16f",
   "metadata": {},
   "outputs": [
    {
     "name": "stdout",
     "output_type": "stream",
     "text": [
      "df shape: (4628, 16)\n"
     ]
    },
    {
     "data": {
      "text/html": [
       "<div>\n",
       "<style scoped>\n",
       "    .dataframe tbody tr th:only-of-type {\n",
       "        vertical-align: middle;\n",
       "    }\n",
       "\n",
       "    .dataframe tbody tr th {\n",
       "        vertical-align: top;\n",
       "    }\n",
       "\n",
       "    .dataframe thead th {\n",
       "        text-align: right;\n",
       "    }\n",
       "</style>\n",
       "<table border=\"1\" class=\"dataframe\">\n",
       "  <thead>\n",
       "    <tr style=\"text-align: right;\">\n",
       "      <th></th>\n",
       "      <th>operation</th>\n",
       "      <th>property_type</th>\n",
       "      <th>place_with_parent_names</th>\n",
       "      <th>lat-lon</th>\n",
       "      <th>price</th>\n",
       "      <th>currency</th>\n",
       "      <th>price_aprox_local_currency</th>\n",
       "      <th>price_aprox_usd</th>\n",
       "      <th>surface_total_in_m2</th>\n",
       "      <th>surface_covered_in_m2</th>\n",
       "      <th>price_usd_per_m2</th>\n",
       "      <th>price_per_m2</th>\n",
       "      <th>floor</th>\n",
       "      <th>rooms</th>\n",
       "      <th>expenses</th>\n",
       "      <th>properati_url</th>\n",
       "    </tr>\n",
       "  </thead>\n",
       "  <tbody>\n",
       "    <tr>\n",
       "      <th>0</th>\n",
       "      <td>sell</td>\n",
       "      <td>apartment</td>\n",
       "      <td>|Gustavo A. Madero|Distrito Federal|México|</td>\n",
       "      <td>19.516777,-99.160149</td>\n",
       "      <td>1200000.0</td>\n",
       "      <td>MXN</td>\n",
       "      <td>1189144.46</td>\n",
       "      <td>63223.78</td>\n",
       "      <td>88.0</td>\n",
       "      <td>88.0</td>\n",
       "      <td>718.452045</td>\n",
       "      <td>13636.363636</td>\n",
       "      <td>NaN</td>\n",
       "      <td>NaN</td>\n",
       "      <td>NaN</td>\n",
       "      <td>http://gustavo-a-madero.properati.com.mx/r644_...</td>\n",
       "    </tr>\n",
       "    <tr>\n",
       "      <th>1</th>\n",
       "      <td>sell</td>\n",
       "      <td>apartment</td>\n",
       "      <td>|Gustavo A. Madero|Distrito Federal|México|</td>\n",
       "      <td>19.466724,-99.131614</td>\n",
       "      <td>480000.0</td>\n",
       "      <td>MXN</td>\n",
       "      <td>475657.74</td>\n",
       "      <td>25289.51</td>\n",
       "      <td>NaN</td>\n",
       "      <td>48.0</td>\n",
       "      <td>NaN</td>\n",
       "      <td>10000.000000</td>\n",
       "      <td>NaN</td>\n",
       "      <td>NaN</td>\n",
       "      <td>NaN</td>\n",
       "      <td>http://vallejo.properati.com.mx/mz4c_venta_dep...</td>\n",
       "    </tr>\n",
       "    <tr>\n",
       "      <th>2</th>\n",
       "      <td>sell</td>\n",
       "      <td>apartment</td>\n",
       "      <td>|Álvaro Obregón|Distrito Federal|México|</td>\n",
       "      <td>19.33228,-99.243934</td>\n",
       "      <td>4559261.0</td>\n",
       "      <td>MXN</td>\n",
       "      <td>4518016.68</td>\n",
       "      <td>240211.43</td>\n",
       "      <td>NaN</td>\n",
       "      <td>126.0</td>\n",
       "      <td>NaN</td>\n",
       "      <td>36184.611111</td>\n",
       "      <td>NaN</td>\n",
       "      <td>NaN</td>\n",
       "      <td>NaN</td>\n",
       "      <td>http://alvaro-obregon.properati.com.mx/jh8j_ve...</td>\n",
       "    </tr>\n",
       "    <tr>\n",
       "      <th>3</th>\n",
       "      <td>sell</td>\n",
       "      <td>apartment</td>\n",
       "      <td>|Benito Juárez|Quintana Roo|México|</td>\n",
       "      <td>21.1105772788,-86.8537859927</td>\n",
       "      <td>3808088.0</td>\n",
       "      <td>MXN</td>\n",
       "      <td>3774533.79</td>\n",
       "      <td>200682.34</td>\n",
       "      <td>0.0</td>\n",
       "      <td>171.0</td>\n",
       "      <td>NaN</td>\n",
       "      <td>22269.520468</td>\n",
       "      <td>NaN</td>\n",
       "      <td>NaN</td>\n",
       "      <td>NaN</td>\n",
       "      <td>http://cancun.properati.com.mx/qus8_venta_depa...</td>\n",
       "    </tr>\n",
       "    <tr>\n",
       "      <th>4</th>\n",
       "      <td>sell</td>\n",
       "      <td>apartment</td>\n",
       "      <td>|Benito Juárez|Distrito Federal|México|</td>\n",
       "      <td>19.39365,-99.14769</td>\n",
       "      <td>1730000.0</td>\n",
       "      <td>MXN</td>\n",
       "      <td>1714349.82</td>\n",
       "      <td>91147.61</td>\n",
       "      <td>NaN</td>\n",
       "      <td>100.0</td>\n",
       "      <td>NaN</td>\n",
       "      <td>17300.000000</td>\n",
       "      <td>NaN</td>\n",
       "      <td>NaN</td>\n",
       "      <td>NaN</td>\n",
       "      <td>http://benito-juarez.properati.com.mx/q5my_ven...</td>\n",
       "    </tr>\n",
       "  </tbody>\n",
       "</table>\n",
       "</div>"
      ],
      "text/plain": [
       "  operation property_type                      place_with_parent_names  \\\n",
       "0      sell     apartment  |Gustavo A. Madero|Distrito Federal|México|   \n",
       "1      sell     apartment  |Gustavo A. Madero|Distrito Federal|México|   \n",
       "2      sell     apartment     |Álvaro Obregón|Distrito Federal|México|   \n",
       "3      sell     apartment          |Benito Juárez|Quintana Roo|México|   \n",
       "4      sell     apartment      |Benito Juárez|Distrito Federal|México|   \n",
       "\n",
       "                        lat-lon      price currency  \\\n",
       "0          19.516777,-99.160149  1200000.0      MXN   \n",
       "1          19.466724,-99.131614   480000.0      MXN   \n",
       "2           19.33228,-99.243934  4559261.0      MXN   \n",
       "3  21.1105772788,-86.8537859927  3808088.0      MXN   \n",
       "4            19.39365,-99.14769  1730000.0      MXN   \n",
       "\n",
       "   price_aprox_local_currency  price_aprox_usd  surface_total_in_m2  \\\n",
       "0                  1189144.46         63223.78                 88.0   \n",
       "1                   475657.74         25289.51                  NaN   \n",
       "2                  4518016.68        240211.43                  NaN   \n",
       "3                  3774533.79        200682.34                  0.0   \n",
       "4                  1714349.82         91147.61                  NaN   \n",
       "\n",
       "   surface_covered_in_m2  price_usd_per_m2  price_per_m2  floor  rooms  \\\n",
       "0                   88.0        718.452045  13636.363636    NaN    NaN   \n",
       "1                   48.0               NaN  10000.000000    NaN    NaN   \n",
       "2                  126.0               NaN  36184.611111    NaN    NaN   \n",
       "3                  171.0               NaN  22269.520468    NaN    NaN   \n",
       "4                  100.0               NaN  17300.000000    NaN    NaN   \n",
       "\n",
       "   expenses                                      properati_url  \n",
       "0       NaN  http://gustavo-a-madero.properati.com.mx/r644_...  \n",
       "1       NaN  http://vallejo.properati.com.mx/mz4c_venta_dep...  \n",
       "2       NaN  http://alvaro-obregon.properati.com.mx/jh8j_ve...  \n",
       "3       NaN  http://cancun.properati.com.mx/qus8_venta_depa...  \n",
       "4       NaN  http://benito-juarez.properati.com.mx/q5my_ven...  "
      ]
     },
     "execution_count": 13,
     "metadata": {},
     "output_type": "execute_result"
    }
   ],
   "source": [
    "df = wrangle(\"mexico-city-real-estate-2.csv\")\n",
    "print(\"df shape:\", df.shape)\n",
    "df.head()"
   ]
  },
  {
   "cell_type": "markdown",
   "id": "5be7a2f3-d70c-40b5-9f21-906adb6d387c",
   "metadata": {},
   "source": [
    "Since I want to build a model for apartments in Mexico City (\" Distrito Federal\") that cost less than $100,000. Looking at the first five rows of our DataFrame, I can already see that there are entries that violates our target condition. So the first cleaning process is to remove those observations from the dataset. Since i'll be using a function to import and clean our data, i'll need to  update the changes there"
   ]
  },
  {
   "cell_type": "code",
   "execution_count": 14,
   "id": "452039ff-f6b0-4ff2-9d1c-d6a51c59c467",
   "metadata": {},
   "outputs": [],
   "source": [
    "# Subset data: Apartments in \"Distrito Federal\", that are less than ($100,000)\n",
    "mask_ba = df[\"place_with_parent_names\"].str.contains(\"Distrito Federal\")\n",
    "mask_apt = df[\"property_type\"] == \"apartment\"\n",
    "mask_price = df[\"price_aprox_usd\"] < 100_000\n",
    "df = df[mask_ba & mask_apt & mask_price]"
   ]
  },
  {
   "cell_type": "code",
   "execution_count": 15,
   "id": "239e240d-deb8-4ff2-99e9-4878789b81aa",
   "metadata": {},
   "outputs": [
    {
     "data": {
      "text/html": [
       "<div>\n",
       "<style scoped>\n",
       "    .dataframe tbody tr th:only-of-type {\n",
       "        vertical-align: middle;\n",
       "    }\n",
       "\n",
       "    .dataframe tbody tr th {\n",
       "        vertical-align: top;\n",
       "    }\n",
       "\n",
       "    .dataframe thead th {\n",
       "        text-align: right;\n",
       "    }\n",
       "</style>\n",
       "<table border=\"1\" class=\"dataframe\">\n",
       "  <thead>\n",
       "    <tr style=\"text-align: right;\">\n",
       "      <th></th>\n",
       "      <th>operation</th>\n",
       "      <th>property_type</th>\n",
       "      <th>place_with_parent_names</th>\n",
       "      <th>lat-lon</th>\n",
       "      <th>price</th>\n",
       "      <th>currency</th>\n",
       "      <th>price_aprox_local_currency</th>\n",
       "      <th>price_aprox_usd</th>\n",
       "      <th>surface_total_in_m2</th>\n",
       "      <th>surface_covered_in_m2</th>\n",
       "      <th>price_usd_per_m2</th>\n",
       "      <th>price_per_m2</th>\n",
       "      <th>floor</th>\n",
       "      <th>rooms</th>\n",
       "      <th>expenses</th>\n",
       "      <th>properati_url</th>\n",
       "    </tr>\n",
       "  </thead>\n",
       "  <tbody>\n",
       "    <tr>\n",
       "      <th>0</th>\n",
       "      <td>sell</td>\n",
       "      <td>apartment</td>\n",
       "      <td>|Gustavo A. Madero|Distrito Federal|México|</td>\n",
       "      <td>19.516777,-99.160149</td>\n",
       "      <td>1200000.0</td>\n",
       "      <td>MXN</td>\n",
       "      <td>1189144.46</td>\n",
       "      <td>63223.78</td>\n",
       "      <td>88.0</td>\n",
       "      <td>88.0</td>\n",
       "      <td>718.452045</td>\n",
       "      <td>13636.363636</td>\n",
       "      <td>NaN</td>\n",
       "      <td>NaN</td>\n",
       "      <td>NaN</td>\n",
       "      <td>http://gustavo-a-madero.properati.com.mx/r644_...</td>\n",
       "    </tr>\n",
       "    <tr>\n",
       "      <th>1</th>\n",
       "      <td>sell</td>\n",
       "      <td>apartment</td>\n",
       "      <td>|Gustavo A. Madero|Distrito Federal|México|</td>\n",
       "      <td>19.466724,-99.131614</td>\n",
       "      <td>480000.0</td>\n",
       "      <td>MXN</td>\n",
       "      <td>475657.74</td>\n",
       "      <td>25289.51</td>\n",
       "      <td>NaN</td>\n",
       "      <td>48.0</td>\n",
       "      <td>NaN</td>\n",
       "      <td>10000.000000</td>\n",
       "      <td>NaN</td>\n",
       "      <td>NaN</td>\n",
       "      <td>NaN</td>\n",
       "      <td>http://vallejo.properati.com.mx/mz4c_venta_dep...</td>\n",
       "    </tr>\n",
       "    <tr>\n",
       "      <th>4</th>\n",
       "      <td>sell</td>\n",
       "      <td>apartment</td>\n",
       "      <td>|Benito Juárez|Distrito Federal|México|</td>\n",
       "      <td>19.39365,-99.14769</td>\n",
       "      <td>1730000.0</td>\n",
       "      <td>MXN</td>\n",
       "      <td>1714349.82</td>\n",
       "      <td>91147.61</td>\n",
       "      <td>NaN</td>\n",
       "      <td>100.0</td>\n",
       "      <td>NaN</td>\n",
       "      <td>17300.000000</td>\n",
       "      <td>NaN</td>\n",
       "      <td>NaN</td>\n",
       "      <td>NaN</td>\n",
       "      <td>http://benito-juarez.properati.com.mx/q5my_ven...</td>\n",
       "    </tr>\n",
       "    <tr>\n",
       "      <th>7</th>\n",
       "      <td>sell</td>\n",
       "      <td>apartment</td>\n",
       "      <td>|Cuauhtémoc|Distrito Federal|México|</td>\n",
       "      <td>19.420356,-99.143597</td>\n",
       "      <td>1792666.0</td>\n",
       "      <td>MXN</td>\n",
       "      <td>1776870.21</td>\n",
       "      <td>94471.66</td>\n",
       "      <td>NaN</td>\n",
       "      <td>1200.0</td>\n",
       "      <td>NaN</td>\n",
       "      <td>1493.888333</td>\n",
       "      <td>NaN</td>\n",
       "      <td>NaN</td>\n",
       "      <td>NaN</td>\n",
       "      <td>http://cuauhtemoc.properati.com.mx/rccj_venta_...</td>\n",
       "    </tr>\n",
       "    <tr>\n",
       "      <th>17</th>\n",
       "      <td>sell</td>\n",
       "      <td>apartment</td>\n",
       "      <td>|Benito Juárez|Distrito Federal|México|</td>\n",
       "      <td>19.383327,-99.152712</td>\n",
       "      <td>1694000.0</td>\n",
       "      <td>MXN</td>\n",
       "      <td>1678675.55</td>\n",
       "      <td>89250.90</td>\n",
       "      <td>NaN</td>\n",
       "      <td>90.0</td>\n",
       "      <td>NaN</td>\n",
       "      <td>18822.222222</td>\n",
       "      <td>NaN</td>\n",
       "      <td>NaN</td>\n",
       "      <td>NaN</td>\n",
       "      <td>http://benito-juarez.properati.com.mx/nb7e_ven...</td>\n",
       "    </tr>\n",
       "  </tbody>\n",
       "</table>\n",
       "</div>"
      ],
      "text/plain": [
       "   operation property_type                      place_with_parent_names  \\\n",
       "0       sell     apartment  |Gustavo A. Madero|Distrito Federal|México|   \n",
       "1       sell     apartment  |Gustavo A. Madero|Distrito Federal|México|   \n",
       "4       sell     apartment      |Benito Juárez|Distrito Federal|México|   \n",
       "7       sell     apartment         |Cuauhtémoc|Distrito Federal|México|   \n",
       "17      sell     apartment      |Benito Juárez|Distrito Federal|México|   \n",
       "\n",
       "                 lat-lon      price currency  price_aprox_local_currency  \\\n",
       "0   19.516777,-99.160149  1200000.0      MXN                  1189144.46   \n",
       "1   19.466724,-99.131614   480000.0      MXN                   475657.74   \n",
       "4     19.39365,-99.14769  1730000.0      MXN                  1714349.82   \n",
       "7   19.420356,-99.143597  1792666.0      MXN                  1776870.21   \n",
       "17  19.383327,-99.152712  1694000.0      MXN                  1678675.55   \n",
       "\n",
       "    price_aprox_usd  surface_total_in_m2  surface_covered_in_m2  \\\n",
       "0          63223.78                 88.0                   88.0   \n",
       "1          25289.51                  NaN                   48.0   \n",
       "4          91147.61                  NaN                  100.0   \n",
       "7          94471.66                  NaN                 1200.0   \n",
       "17         89250.90                  NaN                   90.0   \n",
       "\n",
       "    price_usd_per_m2  price_per_m2  floor  rooms  expenses  \\\n",
       "0         718.452045  13636.363636    NaN    NaN       NaN   \n",
       "1                NaN  10000.000000    NaN    NaN       NaN   \n",
       "4                NaN  17300.000000    NaN    NaN       NaN   \n",
       "7                NaN   1493.888333    NaN    NaN       NaN   \n",
       "17               NaN  18822.222222    NaN    NaN       NaN   \n",
       "\n",
       "                                        properati_url  \n",
       "0   http://gustavo-a-madero.properati.com.mx/r644_...  \n",
       "1   http://vallejo.properati.com.mx/mz4c_venta_dep...  \n",
       "4   http://benito-juarez.properati.com.mx/q5my_ven...  \n",
       "7   http://cuauhtemoc.properati.com.mx/rccj_venta_...  \n",
       "17  http://benito-juarez.properati.com.mx/nb7e_ven...  "
      ]
     },
     "execution_count": 15,
     "metadata": {},
     "output_type": "execute_result"
    }
   ],
   "source": [
    "df.head()"
   ]
  },
  {
   "cell_type": "markdown",
   "id": "9e5de23e-7b6e-47d0-8bda-d3d426faae12",
   "metadata": {},
   "source": [
    " Now lets pay attention the size of the apartments since its a huge influence on prices of apartment "
   ]
  },
  {
   "cell_type": "code",
   "execution_count": 16,
   "id": "a05a6d3f-8d2c-4739-be43-e76b1bc433c1",
   "metadata": {},
   "outputs": [
    {
     "data": {
      "image/png": "[encoded data removed]",
      "text/plain": [
       "<Figure size 640x480 with 1 Axes>"
      ]
     },
     "metadata": {},
     "output_type": "display_data"
    }
   ],
   "source": [
    "# Create a histogram of \"surface_covered_in_m2 to see the distribution of apartment sizes\n",
    "plt.hist(df[\"surface_covered_in_m2\"])\n",
    "plt.xlabel('Area [sq meters]')\n",
    "plt.title(\"Distribution of Apartment Sizes\");"
   ]
  },
  {
   "cell_type": "markdown",
   "id": "2c573cf2-0e9e-452f-8997-c13f0b9ad1c6",
   "metadata": {},
   "source": [
    "The graphical illustration indicates the presence of outlers which can affect our overall model performance, to further comfirmation, I will check the summary statistics of the feature (surface_covered_in_m2)"
   ]
  },
  {
   "cell_type": "code",
   "execution_count": 17,
   "id": "7b1b72a2-2a80-4000-8d01-0f4264c04b55",
   "metadata": {},
   "outputs": [
    {
     "data": {
      "text/plain": [
       "count    1.359000e+03\n",
       "mean     3.216141e+03\n",
       "std      6.915447e+04\n",
       "min      0.000000e+00\n",
       "25%      5.600000e+01\n",
       "50%      6.500000e+01\n",
       "75%      7.650000e+01\n",
       "max      1.730000e+06\n",
       "Name: surface_covered_in_m2, dtype: float64"
      ]
     },
     "execution_count": 17,
     "metadata": {},
     "output_type": "execute_result"
    }
   ],
   "source": [
    "df['surface_covered_in_m2'].describe()"
   ]
  },
  {
   "cell_type": "markdown",
   "id": "4070d9de-2450-410c-a34b-9f572bf9b77c",
   "metadata": {},
   "source": [
    "The summary statistics of surface_covered_in_m2 confirms that while most of the data are smaller than 76,000 square meters, some are several thousand meters. Best course of action is to remove them from the dataset and add the mask to the wrangle function above."
   ]
  },
  {
   "cell_type": "code",
   "execution_count": 18,
   "id": "e974c6f4-7d7d-48ac-b7c6-eedac3e85f6f",
   "metadata": {},
   "outputs": [],
   "source": [
    "# Subset data: Remove outliers for \"surface_covered_in_m2\"\n",
    "low, high = df[\"surface_covered_in_m2\"].quantile([0.1, 0.9])\n",
    "mask_area = df[\"surface_covered_in_m2\"].between(low, high)\n",
    "df = df[mask_area]\n"
   ]
  },
  {
   "cell_type": "markdown",
   "id": "1b8bd9fd-926e-452f-8063-a10add605b60",
   "metadata": {},
   "source": [
    "Now let check the new Histogram"
   ]
  },
  {
   "cell_type": "code",
   "execution_count": 19,
   "id": "e9cec3ce-d201-4828-920d-ea6f926e7276",
   "metadata": {},
   "outputs": [
    {
     "data": {
      "image/png": "[encoded data removed]",
      "text/plain": [
       "<Figure size 640x480 with 1 Axes>"
      ]
     },
     "metadata": {},
     "output_type": "display_data"
    }
   ],
   "source": [
    "# new histogram\n",
    "plt.hist(df[\"surface_covered_in_m2\"])\n",
    "plt.xlabel('Area [sq meters]')\n",
    "plt.title(\"Distribution of Apartment Sizes\");"
   ]
  },
  {
   "cell_type": "markdown",
   "id": "9171748e-1979-4189-9c4e-c6e9b736cb6b",
   "metadata": {},
   "source": [
    "Now we consider location then we split the  \"lat-lon\" column into individual columns and the \"lat-lon\" column should be dropped. This will also be updated to the wrangle function above."
   ]
  },
  {
   "cell_type": "code",
   "execution_count": 20,
   "id": "36fb5376-72ce-4631-a471-78299e3e6fd0",
   "metadata": {},
   "outputs": [
    {
     "data": {
      "text/html": [
       "<div>\n",
       "<style scoped>\n",
       "    .dataframe tbody tr th:only-of-type {\n",
       "        vertical-align: middle;\n",
       "    }\n",
       "\n",
       "    .dataframe tbody tr th {\n",
       "        vertical-align: top;\n",
       "    }\n",
       "\n",
       "    .dataframe thead th {\n",
       "        text-align: right;\n",
       "    }\n",
       "</style>\n",
       "<table border=\"1\" class=\"dataframe\">\n",
       "  <thead>\n",
       "    <tr style=\"text-align: right;\">\n",
       "      <th></th>\n",
       "      <th>operation</th>\n",
       "      <th>property_type</th>\n",
       "      <th>place_with_parent_names</th>\n",
       "      <th>price</th>\n",
       "      <th>currency</th>\n",
       "      <th>price_aprox_local_currency</th>\n",
       "      <th>price_aprox_usd</th>\n",
       "      <th>surface_total_in_m2</th>\n",
       "      <th>surface_covered_in_m2</th>\n",
       "      <th>price_usd_per_m2</th>\n",
       "      <th>price_per_m2</th>\n",
       "      <th>floor</th>\n",
       "      <th>rooms</th>\n",
       "      <th>expenses</th>\n",
       "      <th>properati_url</th>\n",
       "      <th>lat</th>\n",
       "      <th>lon</th>\n",
       "    </tr>\n",
       "  </thead>\n",
       "  <tbody>\n",
       "    <tr>\n",
       "      <th>0</th>\n",
       "      <td>sell</td>\n",
       "      <td>apartment</td>\n",
       "      <td>|Gustavo A. Madero|Distrito Federal|México|</td>\n",
       "      <td>1200000.0</td>\n",
       "      <td>MXN</td>\n",
       "      <td>1189144.46</td>\n",
       "      <td>63223.78</td>\n",
       "      <td>88.0</td>\n",
       "      <td>88.0</td>\n",
       "      <td>718.452045</td>\n",
       "      <td>13636.363636</td>\n",
       "      <td>NaN</td>\n",
       "      <td>NaN</td>\n",
       "      <td>NaN</td>\n",
       "      <td>http://gustavo-a-madero.properati.com.mx/r644_...</td>\n",
       "      <td>19.516777</td>\n",
       "      <td>-99.160149</td>\n",
       "    </tr>\n",
       "    <tr>\n",
       "      <th>1</th>\n",
       "      <td>sell</td>\n",
       "      <td>apartment</td>\n",
       "      <td>|Gustavo A. Madero|Distrito Federal|México|</td>\n",
       "      <td>480000.0</td>\n",
       "      <td>MXN</td>\n",
       "      <td>475657.74</td>\n",
       "      <td>25289.51</td>\n",
       "      <td>NaN</td>\n",
       "      <td>48.0</td>\n",
       "      <td>NaN</td>\n",
       "      <td>10000.000000</td>\n",
       "      <td>NaN</td>\n",
       "      <td>NaN</td>\n",
       "      <td>NaN</td>\n",
       "      <td>http://vallejo.properati.com.mx/mz4c_venta_dep...</td>\n",
       "      <td>19.466724</td>\n",
       "      <td>-99.131614</td>\n",
       "    </tr>\n",
       "    <tr>\n",
       "      <th>17</th>\n",
       "      <td>sell</td>\n",
       "      <td>apartment</td>\n",
       "      <td>|Benito Juárez|Distrito Federal|México|</td>\n",
       "      <td>1694000.0</td>\n",
       "      <td>MXN</td>\n",
       "      <td>1678675.55</td>\n",
       "      <td>89250.90</td>\n",
       "      <td>NaN</td>\n",
       "      <td>90.0</td>\n",
       "      <td>NaN</td>\n",
       "      <td>18822.222222</td>\n",
       "      <td>NaN</td>\n",
       "      <td>NaN</td>\n",
       "      <td>NaN</td>\n",
       "      <td>http://benito-juarez.properati.com.mx/nb7e_ven...</td>\n",
       "      <td>19.383327</td>\n",
       "      <td>-99.152712</td>\n",
       "    </tr>\n",
       "    <tr>\n",
       "      <th>19</th>\n",
       "      <td>sell</td>\n",
       "      <td>apartment</td>\n",
       "      <td>|Álvaro Obregón|Distrito Federal|México|</td>\n",
       "      <td>757073.0</td>\n",
       "      <td>MXN</td>\n",
       "      <td>750224.23</td>\n",
       "      <td>39887.51</td>\n",
       "      <td>NaN</td>\n",
       "      <td>60.0</td>\n",
       "      <td>NaN</td>\n",
       "      <td>12617.883333</td>\n",
       "      <td>NaN</td>\n",
       "      <td>NaN</td>\n",
       "      <td>NaN</td>\n",
       "      <td>http://alvaro-obregon.properati.com.mx/pd6s_ve...</td>\n",
       "      <td>19.388280</td>\n",
       "      <td>-99.195529</td>\n",
       "    </tr>\n",
       "    <tr>\n",
       "      <th>20</th>\n",
       "      <td>sell</td>\n",
       "      <td>apartment</td>\n",
       "      <td>|Cuauhtémoc|Distrito Federal|México|</td>\n",
       "      <td>806000.0</td>\n",
       "      <td>MXN</td>\n",
       "      <td>798897.99</td>\n",
       "      <td>42475.37</td>\n",
       "      <td>NaN</td>\n",
       "      <td>80.0</td>\n",
       "      <td>NaN</td>\n",
       "      <td>10075.000000</td>\n",
       "      <td>NaN</td>\n",
       "      <td>NaN</td>\n",
       "      <td>NaN</td>\n",
       "      <td>http://cuauhtemoc.properati.com.mx/r3y9_venta_...</td>\n",
       "      <td>19.454582</td>\n",
       "      <td>-99.145651</td>\n",
       "    </tr>\n",
       "  </tbody>\n",
       "</table>\n",
       "</div>"
      ],
      "text/plain": [
       "   operation property_type                      place_with_parent_names  \\\n",
       "0       sell     apartment  |Gustavo A. Madero|Distrito Federal|México|   \n",
       "1       sell     apartment  |Gustavo A. Madero|Distrito Federal|México|   \n",
       "17      sell     apartment      |Benito Juárez|Distrito Federal|México|   \n",
       "19      sell     apartment     |Álvaro Obregón|Distrito Federal|México|   \n",
       "20      sell     apartment         |Cuauhtémoc|Distrito Federal|México|   \n",
       "\n",
       "        price currency  price_aprox_local_currency  price_aprox_usd  \\\n",
       "0   1200000.0      MXN                  1189144.46         63223.78   \n",
       "1    480000.0      MXN                   475657.74         25289.51   \n",
       "17  1694000.0      MXN                  1678675.55         89250.90   \n",
       "19   757073.0      MXN                   750224.23         39887.51   \n",
       "20   806000.0      MXN                   798897.99         42475.37   \n",
       "\n",
       "    surface_total_in_m2  surface_covered_in_m2  price_usd_per_m2  \\\n",
       "0                  88.0                   88.0        718.452045   \n",
       "1                   NaN                   48.0               NaN   \n",
       "17                  NaN                   90.0               NaN   \n",
       "19                  NaN                   60.0               NaN   \n",
       "20                  NaN                   80.0               NaN   \n",
       "\n",
       "    price_per_m2  floor  rooms  expenses  \\\n",
       "0   13636.363636    NaN    NaN       NaN   \n",
       "1   10000.000000    NaN    NaN       NaN   \n",
       "17  18822.222222    NaN    NaN       NaN   \n",
       "19  12617.883333    NaN    NaN       NaN   \n",
       "20  10075.000000    NaN    NaN       NaN   \n",
       "\n",
       "                                        properati_url        lat        lon  \n",
       "0   http://gustavo-a-madero.properati.com.mx/r644_...  19.516777 -99.160149  \n",
       "1   http://vallejo.properati.com.mx/mz4c_venta_dep...  19.466724 -99.131614  \n",
       "17  http://benito-juarez.properati.com.mx/nb7e_ven...  19.383327 -99.152712  \n",
       "19  http://alvaro-obregon.properati.com.mx/pd6s_ve...  19.388280 -99.195529  \n",
       "20  http://cuauhtemoc.properati.com.mx/r3y9_venta_...  19.454582 -99.145651  "
      ]
     },
     "execution_count": 20,
     "metadata": {},
     "output_type": "execute_result"
    }
   ],
   "source": [
    "# Split \"lat-lon\" column\n",
    "df[[\"lat\", \"lon\"]] = df[\"lat-lon\"].str.split(\",\", expand=True).astype(float)\n",
    "df.drop(columns=\"lat-lon\", inplace=True)\n",
    "df.head()"
   ]
  },
  {
   "cell_type": "markdown",
   "id": "22ca38c2-e88f-4b25-9454-cb66ca6f7d09",
   "metadata": {},
   "source": [
    "In the place with parent names column, we can see that there are three distinct strings separated by a '|', they are \"borough\", \"state\" and \"country\" respectively. A borough column would be very useful for the model, so I will create one and drop the place with parent names column."
   ]
  },
  {
   "cell_type": "code",
   "execution_count": 21,
   "id": "9d88d7e0-ad61-4963-9f25-d6ab66f28a96",
   "metadata": {},
   "outputs": [],
   "source": [
    "# Create a borough column and drop the place_with_parent_names column\n",
    "df[\"borough\"] = df[\"place_with_parent_names\"].str.split(\"|\", expand=True)[1]\n",
    "df.drop(columns=\"place_with_parent_names\", inplace=True)"
   ]
  },
  {
   "cell_type": "markdown",
   "id": "1de52859-15ab-44be-b166-7e618f8a72ab",
   "metadata": {},
   "source": [
    "Now we drop columns that  over 50% null values as data points."
   ]
  },
  {
   "cell_type": "code",
   "execution_count": 22,
   "id": "e5a1fce5-0fa2-49e7-a72e-95a7a197228b",
   "metadata": {},
   "outputs": [
    {
     "name": "stdout",
     "output_type": "stream",
     "text": [
      "<class 'pandas.core.frame.DataFrame'>\n",
      "Int64Index: 1100 entries, 0 to 4623\n",
      "Data columns (total 17 columns):\n",
      " #   Column                      Non-Null Count  Dtype  \n",
      "---  ------                      --------------  -----  \n",
      " 0   operation                   1100 non-null   object \n",
      " 1   property_type               1100 non-null   object \n",
      " 2   price                       1100 non-null   float64\n",
      " 3   currency                    1100 non-null   object \n",
      " 4   price_aprox_local_currency  1100 non-null   float64\n",
      " 5   price_aprox_usd             1100 non-null   float64\n",
      " 6   surface_total_in_m2         137 non-null    float64\n",
      " 7   surface_covered_in_m2       1100 non-null   float64\n",
      " 8   price_usd_per_m2            98 non-null     float64\n",
      " 9   price_per_m2                1100 non-null   float64\n",
      " 10  floor                       0 non-null      float64\n",
      " 11  rooms                       4 non-null      float64\n",
      " 12  expenses                    0 non-null      float64\n",
      " 13  properati_url               1100 non-null   object \n",
      " 14  lat                         1031 non-null   float64\n",
      " 15  lon                         1031 non-null   float64\n",
      " 16  borough                     1100 non-null   object \n",
      "dtypes: float64(12), object(5)\n",
      "memory usage: 154.7+ KB\n"
     ]
    }
   ],
   "source": [
    "df.info()"
   ]
  },
  {
   "cell_type": "code",
   "execution_count": 23,
   "id": "ec5717f9-8e54-42ae-b572-375fa978737c",
   "metadata": {},
   "outputs": [
    {
     "data": {
      "text/plain": [
       "operation                     0.000000\n",
       "property_type                 0.000000\n",
       "price                         0.000000\n",
       "currency                      0.000000\n",
       "price_aprox_local_currency    0.000000\n",
       "price_aprox_usd               0.000000\n",
       "surface_total_in_m2           0.875455\n",
       "surface_covered_in_m2         0.000000\n",
       "price_usd_per_m2              0.910909\n",
       "price_per_m2                  0.000000\n",
       "floor                         1.000000\n",
       "rooms                         0.996364\n",
       "expenses                      1.000000\n",
       "properati_url                 0.000000\n",
       "lat                           0.062727\n",
       "lon                           0.062727\n",
       "borough                       0.000000\n",
       "dtype: float64"
      ]
     },
     "execution_count": 23,
     "metadata": {},
     "output_type": "execute_result"
    }
   ],
   "source": [
    "df.isnull().sum() / len(df)\n"
   ]
  },
  {
   "cell_type": "code",
   "execution_count": 24,
   "id": "d6e2f52c-cf4d-40d3-9a82-544da3f46546",
   "metadata": {},
   "outputs": [],
   "source": [
    " # Drop columns with over 50% null values\n",
    "df.drop(columns=[\"floor\" ,\"expenses\"], inplace=True)"
   ]
  },
  {
   "cell_type": "markdown",
   "id": "b79cd0ee-4804-49d9-aa87-9826a5a55a93",
   "metadata": {},
   "source": [
    "The next thing we need to look out for are categorical columns with low or high cardinality."
   ]
  },
  {
   "cell_type": "code",
   "execution_count": 25,
   "id": "0830d55b-f3f0-4a74-abd5-d38e97e99164",
   "metadata": {},
   "outputs": [
    {
     "data": {
      "text/plain": [
       "operation           1\n",
       "property_type       1\n",
       "currency            1\n",
       "properati_url    1100\n",
       "borough            15\n",
       "dtype: int64"
      ]
     },
     "execution_count": 25,
     "metadata": {},
     "output_type": "execute_result"
    }
   ],
   "source": [
    "#Cardinality check\n",
    "df.select_dtypes(\"object\").nunique()"
   ]
  },
  {
   "cell_type": "markdown",
   "id": "964c8938-27e5-4a17-b935-4d8b5c3f8a90",
   "metadata": {},
   "source": [
    "Here, we can see that columns like \"operation\" ,\"property_type\" have only one value in them, while every row in \"properati_url\" has a unique value. These are clear examples of high- and low-cardinality features that we shouldn't include in our model."
   ]
  },
  {
   "cell_type": "code",
   "execution_count": 26,
   "id": "8d764bf8-3749-4e0d-9c25-e357ee78ce0e",
   "metadata": {},
   "outputs": [],
   "source": [
    "# Drop low and high cardinality categorical variables\n",
    "df.drop(columns=[\"operation\", \"property_type\", \"currency\", \"properati_url\"], inplace=True)"
   ]
  },
  {
   "cell_type": "code",
   "execution_count": 27,
   "id": "94bf301e-fbbf-48fb-8fca-4efd3bb0777b",
   "metadata": {},
   "outputs": [
    {
     "data": {
      "text/plain": [
       "['borough',\n",
       " 'lat',\n",
       " 'lon',\n",
       " 'price',\n",
       " 'price_aprox_local_currency',\n",
       " 'price_aprox_usd',\n",
       " 'price_per_m2',\n",
       " 'price_usd_per_m2',\n",
       " 'rooms',\n",
       " 'surface_covered_in_m2',\n",
       " 'surface_total_in_m2']"
      ]
     },
     "execution_count": 27,
     "metadata": {},
     "output_type": "execute_result"
    }
   ],
   "source": [
    "sorted(df.columns)"
   ]
  },
  {
   "cell_type": "markdown",
   "id": "c571ccfc-4752-432b-82e1-957ed45c26cb",
   "metadata": {},
   "source": [
    "Now we drop leaky columns - that is they contain information that would not be known or available at the time of making a prediction or decision."
   ]
  },
  {
   "cell_type": "code",
   "execution_count": 28,
   "id": "68eadf30-b64b-472e-a584-4419bae1f519",
   "metadata": {},
   "outputs": [],
   "source": [
    "# Drop Leaky Columns\n",
    "df.drop(columns=[\"price\", \"price_aprox_local_currency\",\"price_usd_per_m2\", \"price_per_m2\"], inplace=True)"
   ]
  },
  {
   "cell_type": "markdown",
   "id": "e24989a8-40ed-43ff-a4fb-d41a0db3eb62",
   "metadata": {},
   "source": [
    "Finally, the last thing we need look  out for is multicollinearity, that is, features in our feature matrix that are highly correlated with each other. A good way to detect this is to use a heatmap and investigate the results."
   ]
  },
  {
   "cell_type": "code",
   "execution_count": 29,
   "id": "2ce9de3c-ed36-4b80-898d-57a2ac291c31",
   "metadata": {},
   "outputs": [
    {
     "data": {
      "image/png": "[encoded data removed]",
      "text/plain": [
       "<Figure size 640x480 with 2 Axes>"
      ]
     },
     "metadata": {},
     "output_type": "display_data"
    }
   ],
   "source": [
    "corr = df.select_dtypes(\"number\").drop(columns=\"price_aprox_usd\").corr()\n",
    "sns.heatmap(corr);"
   ]
  },
  {
   "cell_type": "markdown",
   "id": "c78814cf-fe7a-412e-9f6d-270fafc0c310",
   "metadata": {},
   "source": [
    "From the heatmap above we can see that the columns with multicolinearity are \"surface_total_in_m2\" and \"rooms\" so they will be dropped."
   ]
  },
  {
   "cell_type": "code",
   "execution_count": 30,
   "id": "bf212898-47c1-44e2-b916-9235268eda09",
   "metadata": {},
   "outputs": [],
   "source": [
    "# Drop columns with multicolinearity\n",
    "df.drop(columns=[\"surface_total_in_m2\", \"rooms\"], inplace=True)"
   ]
  },
  {
   "cell_type": "code",
   "execution_count": null,
   "id": "b1442e7f-4809-459f-b7f9-bba1ea58111a",
   "metadata": {},
   "outputs": [],
   "source": [
    "Now lets comfirm our function ."
   ]
  },
  {
   "cell_type": "code",
   "execution_count": 33,
   "id": "bfe67ad0-6262-4e23-8d04-36c454882849",
   "metadata": {},
   "outputs": [
    {
     "data": {
      "text/html": [
       "<div>\n",
       "<style scoped>\n",
       "    .dataframe tbody tr th:only-of-type {\n",
       "        vertical-align: middle;\n",
       "    }\n",
       "\n",
       "    .dataframe tbody tr th {\n",
       "        vertical-align: top;\n",
       "    }\n",
       "\n",
       "    .dataframe thead th {\n",
       "        text-align: right;\n",
       "    }\n",
       "</style>\n",
       "<table border=\"1\" class=\"dataframe\">\n",
       "  <thead>\n",
       "    <tr style=\"text-align: right;\">\n",
       "      <th></th>\n",
       "      <th>price_aprox_usd</th>\n",
       "      <th>surface_covered_in_m2</th>\n",
       "      <th>lat</th>\n",
       "      <th>lon</th>\n",
       "      <th>borough</th>\n",
       "    </tr>\n",
       "  </thead>\n",
       "  <tbody>\n",
       "    <tr>\n",
       "      <th>0</th>\n",
       "      <td>63223.78</td>\n",
       "      <td>88.0</td>\n",
       "      <td>19.516777</td>\n",
       "      <td>-99.160149</td>\n",
       "      <td>Gustavo A. Madero</td>\n",
       "    </tr>\n",
       "    <tr>\n",
       "      <th>1</th>\n",
       "      <td>25289.51</td>\n",
       "      <td>48.0</td>\n",
       "      <td>19.466724</td>\n",
       "      <td>-99.131614</td>\n",
       "      <td>Gustavo A. Madero</td>\n",
       "    </tr>\n",
       "    <tr>\n",
       "      <th>17</th>\n",
       "      <td>89250.90</td>\n",
       "      <td>90.0</td>\n",
       "      <td>19.383327</td>\n",
       "      <td>-99.152712</td>\n",
       "      <td>Benito Juárez</td>\n",
       "    </tr>\n",
       "    <tr>\n",
       "      <th>19</th>\n",
       "      <td>39887.51</td>\n",
       "      <td>60.0</td>\n",
       "      <td>19.388280</td>\n",
       "      <td>-99.195529</td>\n",
       "      <td>Álvaro Obregón</td>\n",
       "    </tr>\n",
       "    <tr>\n",
       "      <th>20</th>\n",
       "      <td>42475.37</td>\n",
       "      <td>80.0</td>\n",
       "      <td>19.454582</td>\n",
       "      <td>-99.145651</td>\n",
       "      <td>Cuauhtémoc</td>\n",
       "    </tr>\n",
       "  </tbody>\n",
       "</table>\n",
       "</div>"
      ],
      "text/plain": [
       "    price_aprox_usd  surface_covered_in_m2        lat        lon  \\\n",
       "0          63223.78                   88.0  19.516777 -99.160149   \n",
       "1          25289.51                   48.0  19.466724 -99.131614   \n",
       "17         89250.90                   90.0  19.383327 -99.152712   \n",
       "19         39887.51                   60.0  19.388280 -99.195529   \n",
       "20         42475.37                   80.0  19.454582 -99.145651   \n",
       "\n",
       "              borough  \n",
       "0   Gustavo A. Madero  \n",
       "1   Gustavo A. Madero  \n",
       "17      Benito Juárez  \n",
       "19     Álvaro Obregón  \n",
       "20         Cuauhtémoc  "
      ]
     },
     "execution_count": 33,
     "metadata": {},
     "output_type": "execute_result"
    }
   ],
   "source": [
    "df.head()"
   ]
  }
 ],
 "metadata": {
  "kernelspec": {
   "display_name": "Python 3",
   "language": "python",
   "name": "python3"
  },
  "language_info": {
   "codemirror_mode": {
    "name": "ipython",
    "version": 3
   },
   "file_extension": ".py",
   "mimetype": "text/x-python",
   "name": "python",
   "nbconvert_exporter": "python",
   "pygments_lexer": "ipython3",
   "version": "3.8.16"
  }
 },
 "nbformat": 4,
 "nbformat_minor": 5
}
